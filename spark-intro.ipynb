{
 "metadata": {
  "name": "",
  "signature": "sha256:76322a7f79a20e462f9bb85744140889ebeccba1b98613f62f966d7ac8b106e5"
 },
 "nbformat": 3,
 "nbformat_minor": 0,
 "worksheets": [
  {
   "cells": [
    {
     "cell_type": "code",
     "collapsed": false,
     "input": [
      "wordsList = ['cat', 'elephant', 'rat', 'rat', 'cat']\n",
      "wordsRDD = sc.parallelize(wordsList, 4)\n",
      "# Print out the type of wordsRDD\n",
      "print type(wordsRDD)"
     ],
     "language": "python",
     "metadata": {},
     "outputs": []
    },
    {
     "cell_type": "code",
     "collapsed": false,
     "input": [
      "# One way of completing the function\n",
      "def makePlural(word):\n",
      "    return word + 's'\n",
      "\n",
      "print makePlural('cat')"
     ],
     "language": "python",
     "metadata": {},
     "outputs": []
    },
    {
     "cell_type": "code",
     "collapsed": false,
     "input": [
      "pluralRDD = wordsRDD.map(makePlural)\n",
      "print pluralRDD.collect()"
     ],
     "language": "python",
     "metadata": {},
     "outputs": []
    },
    {
     "cell_type": "code",
     "collapsed": false,
     "input": [
      "pluralLambdaRDD = wordsRDD.map(lambda x: x + 's')\n",
      "print pluralLambdaRDD.collect()"
     ],
     "language": "python",
     "metadata": {},
     "outputs": []
    },
    {
     "cell_type": "code",
     "collapsed": false,
     "input": [
      "wordPairs = wordsRDD.map(lambda x: (x, 1))\n",
      "print wordPairs.collect()"
     ],
     "language": "python",
     "metadata": {},
     "outputs": []
    },
    {
     "cell_type": "heading",
     "level": 4,
     "metadata": {},
     "source": [
      "counting words"
     ]
    },
    {
     "cell_type": "code",
     "collapsed": false,
     "input": [
      "wordsGrouped = wordPairs.groupByKey()\n",
      "for key, value in wordsGrouped.collect():\n",
      "    print '{0}: {1}'.format(key, list(value))"
     ],
     "language": "python",
     "metadata": {},
     "outputs": []
    },
    {
     "cell_type": "code",
     "collapsed": false,
     "input": [
      "wordCountsGrouped = wordsGrouped.map(lambda (k, v): (k, sum(v)))\n",
      "print wordCountsGrouped.collect()"
     ],
     "language": "python",
     "metadata": {},
     "outputs": []
    },
    {
     "cell_type": "code",
     "collapsed": false,
     "input": [
      "wordCounts = wordPairs.reduceByKey(lambda x, y: x + y)\n",
      "print wordCounts.collect()"
     ],
     "language": "python",
     "metadata": {},
     "outputs": []
    },
    {
     "cell_type": "heading",
     "level": 4,
     "metadata": {},
     "source": [
      "wordcount shakespeare"
     ]
    },
    {
     "cell_type": "code",
     "collapsed": false,
     "input": [
      "import re\n",
      "import string\n",
      "def removePunctuation(text):\n",
      "    regex = re.compile('[%s]' % re.escape(string.punctuation))\n",
      "    return regex.sub('', text).lower().strip()"
     ],
     "language": "python",
     "metadata": {},
     "outputs": []
    },
    {
     "cell_type": "code",
     "collapsed": false,
     "input": [
      "import urllib\n",
      "f = urllib.urlretrieve('http://www.gutenberg.org/cache/epub/100/pg100.txt')\n",
      "sc_file = sc.textFile(f[0])"
     ],
     "language": "python",
     "metadata": {},
     "outputs": []
    },
    {
     "cell_type": "code",
     "collapsed": false,
     "input": [
      "shakespeareRDD = sc_file.map(removePunctuation)"
     ],
     "language": "python",
     "metadata": {},
     "outputs": []
    },
    {
     "cell_type": "code",
     "collapsed": false,
     "input": [
      "shakespeareRDD.take(15)"
     ],
     "language": "python",
     "metadata": {},
     "outputs": []
    },
    {
     "cell_type": "code",
     "collapsed": false,
     "input": [
      "shakespeareWordsRDD = shakespeareRDD.flatMap(lambda x: x.split())"
     ],
     "language": "python",
     "metadata": {},
     "outputs": []
    },
    {
     "cell_type": "code",
     "collapsed": false,
     "input": [
      "# Now, try to do a wordcount as we have done in the previous example"
     ],
     "language": "python",
     "metadata": {},
     "outputs": []
    },
    {
     "cell_type": "code",
     "collapsed": false,
     "input": [],
     "language": "python",
     "metadata": {},
     "outputs": []
    }
   ],
   "metadata": {}
  }
 ]
}